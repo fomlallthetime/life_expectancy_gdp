import matplotlib.pyplot as plt
import seaborn as sns
import pandas as pd
import numpy as np
%matplotlib inline

#loading the csv into pandas format
l_e = pd.read_csv("all_data.csv")

#for convenience we rename the long column name to an abbreviation
l_e.rename(columns = {"Life expectancy at birth (years)": "LEAB"},inplace = True)


print(l_e)
